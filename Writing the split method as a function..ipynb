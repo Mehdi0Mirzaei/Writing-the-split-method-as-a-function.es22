{
 "cells": [
  {
   "cell_type": "code",
   "execution_count": 14,
   "id": "c388b692",
   "metadata": {},
   "outputs": [],
   "source": [
    "def my_split(txt,char):\n",
    "    result=[]\n",
    "    temp=''\n",
    "    for i in txt:\n",
    "        if i==char:\n",
    "            result.append(temp)\n",
    "            temp=''\n",
    "            continue\n",
    "        temp+=i\n",
    "    if temp:\n",
    "        result.append(temp)\n",
    "    return result"
   ]
  },
  {
   "cell_type": "code",
   "execution_count": 15,
   "id": "760a3e52",
   "metadata": {},
   "outputs": [
    {
     "data": {
      "text/plain": [
       "['some', 'random', 'text']"
      ]
     },
     "execution_count": 15,
     "metadata": {},
     "output_type": "execute_result"
    }
   ],
   "source": [
    "my_split('some random text',' ')"
   ]
  },
  {
   "cell_type": "code",
   "execution_count": 12,
   "id": "1bbd14ee",
   "metadata": {},
   "outputs": [],
   "source": [
    "def custom_split(txt, char):\n",
    "    result = []\n",
    "    temp = \"\"\n",
    "    \n",
    "    for i in txt:\n",
    "        if i == char:\n",
    "            if temp:  # Avoid adding empty substrings\n",
    "                result.append(temp)\n",
    "                temp = \"\"\n",
    "        else:\n",
    "            temp += i\n",
    "    \n",
    "    if temp:  # Append the remaining substring\n",
    "        result.append(temp)\n",
    "    \n",
    "    return result\n",
    "\n",
    "\n"
   ]
  },
  {
   "cell_type": "code",
   "execution_count": 13,
   "id": "dc8a9c14",
   "metadata": {},
   "outputs": [
    {
     "data": {
      "text/plain": [
       "['some', 'random', 'text']"
      ]
     },
     "execution_count": 13,
     "metadata": {},
     "output_type": "execute_result"
    }
   ],
   "source": [
    "custom_split('some random text',' ')"
   ]
  },
  {
   "cell_type": "code",
   "execution_count": null,
   "id": "1ab1e3cf",
   "metadata": {},
   "outputs": [],
   "source": []
  }
 ],
 "metadata": {
  "kernelspec": {
   "display_name": "Python 3 (ipykernel)",
   "language": "python",
   "name": "python3"
  },
  "language_info": {
   "codemirror_mode": {
    "name": "ipython",
    "version": 3
   },
   "file_extension": ".py",
   "mimetype": "text/x-python",
   "name": "python",
   "nbconvert_exporter": "python",
   "pygments_lexer": "ipython3",
   "version": "3.9.17"
  }
 },
 "nbformat": 4,
 "nbformat_minor": 5
}
